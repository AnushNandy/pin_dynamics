{
 "cells": [
  {
   "metadata": {},
   "cell_type": "markdown",
   "source": "# Jacobian testing before going for dynamics",
   "id": "1600b6bbd2c0537b"
  },
  {
   "cell_type": "code",
   "id": "initial_id",
   "metadata": {
    "collapsed": true,
    "ExecuteTime": {
     "end_time": "2025-06-05T14:52:37.567174Z",
     "start_time": "2025-06-05T14:52:37.315161Z"
    }
   },
   "source": [
    "import pybullet as p\n",
    "import pybullet_data\n",
    "import numpy as np\n",
    "import math\n",
    "import time\n",
    "from Dynamics_full.config import robot_config\n",
    "from Dynamics_full.src.kinematics.kinematic_calculations import compute_geometric_jacobian\n",
    "import MathUtils"
   ],
   "outputs": [],
   "execution_count": 1
  },
  {
   "metadata": {
    "ExecuteTime": {
     "end_time": "2025-06-05T14:52:37.575301Z",
     "start_time": "2025-06-05T14:52:37.572181Z"
    }
   },
   "cell_type": "code",
   "source": "URDF_PATH = r\"C:\\dev\\control-sw-tools\\Dynamics_full\\ArmModels\\urdfs\\P4\\P4_Contra-Angle_right.urdf\"",
   "id": "671375f83614867a",
   "outputs": [],
   "execution_count": 2
  },
  {
   "metadata": {
    "ExecuteTime": {
     "end_time": "2025-06-05T14:52:37.585683Z",
     "start_time": "2025-06-05T14:52:37.580310Z"
    }
   },
   "cell_type": "code",
   "source": [
    "def get_link_index_by_name_pb_jac(robot_id, target_link_name): # Copied from your 01Test\n",
    "    base_name = p.getBodyInfo(robot_id)[0].decode('UTF-8')\n",
    "    if target_link_name == base_name or target_link_name == \"Base\": return -1\n",
    "    for i in range(p.getNumJoints(robot_id)):\n",
    "        info = p.getJointInfo(robot_id, i)\n",
    "        link_name = info[12].decode('UTF-8')\n",
    "        if link_name == target_link_name: return i\n",
    "    print(f\"Warning: Link '{target_link_name}' not found.\")\n",
    "    return None\n",
    "\n",
    "def get_joint_indices_by_names_pb_jac(robot_id, target_joint_names): # Modified\n",
    "    joint_indices = []\n",
    "    pb_joint_info = {p.getJointInfo(robot_id, i)[1].decode('UTF-8'): i for i in range(p.getNumJoints(robot_id))}\n",
    "    for name in target_joint_names:\n",
    "        if name in pb_joint_info:\n",
    "            joint_indices.append(pb_joint_info[name])\n",
    "        else:\n",
    "            print(f\"Warning: Joint '{name}' not found in PyBullet model.\")\n",
    "            return None\n",
    "    return joint_indices"
   ],
   "id": "c3eca034445e7d8d",
   "outputs": [],
   "execution_count": 3
  },
  {
   "metadata": {
    "ExecuteTime": {
     "end_time": "2025-06-05T14:52:37.597688Z",
     "start_time": "2025-06-05T14:52:37.590689Z"
    }
   },
   "cell_type": "code",
   "source": [
    "def main_jacobian_test():\n",
    "    physicsClientId = p.connect(p.GUI) # Or GUI if you want to see it\n",
    "    p.setAdditionalSearchPath(pybullet_data.getDataPath())\n",
    "    planeId = p.loadURDF(\"plane.urdf\")\n",
    "    p.changeVisualShape(planeId, -1, rgbaColor=[0.8, 0.8, 0.8, 0.3])\n",
    "\n",
    "    robot_id = p.loadURDF(URDF_PATH, useFixedBase=True)\n",
    "\n",
    "    test_joint_angles = [0.0, 1.54, 0.0, 0.0, 0.0, 0.0, 0.0]\n",
    "    # test_joint_angles = [0.1] * robot_config.NUM_JOINTS # Small non-zero\n",
    "\n",
    "    ee_link_name_urdf = robot_config.LINK_NAMES_IN_KDL_ORDER[-1]\n",
    "\n",
    "    pb_ee_link_index = get_link_index_by_name_pb_jac(robot_id, ee_link_name_urdf)\n",
    "    if pb_ee_link_index is None:\n",
    "        print(f\"CRITICAL: EE Link '{ee_link_name_urdf}' not found in URDF for PyBullet Jacobian. Exiting.\")\n",
    "        p.disconnect()\n",
    "        return\n",
    "\n",
    "    pb_actuated_joint_indices = get_joint_indices_by_names_pb_jac(robot_id, robot_config.ACTUATED_JOINT_NAMES)\n",
    "    if pb_actuated_joint_indices is None or len(pb_actuated_joint_indices) != robot_config.NUM_JOINTS:\n",
    "        print(\"CRITICAL: Could not map all actuated joint names to PyBullet indices. Exiting.\")\n",
    "        p.disconnect()\n",
    "        return\n",
    "\n",
    "    for i in range(robot_config.NUM_JOINTS):\n",
    "        p.resetJointState(robot_id, pb_actuated_joint_indices[i], test_joint_angles[i])\n",
    "\n",
    "    neocis_fk_for_custom_J = True\n",
    "    J_custom = compute_geometric_jacobian(\n",
    "        robot_config.KDL_CHAIN,\n",
    "        test_joint_angles,\n",
    "        neocis_convention_fk=neocis_fk_for_custom_J\n",
    "    )\n",
    "    print(\"\\n--- Custom Jacobian ---\")\n",
    "    print(f\"Using neocis_convention={neocis_fk_for_custom_J} for FK in custom Jacobian.\")\n",
    "    print(np.round(J_custom, 2))\n",
    "\n",
    "    # --- Calculate Jacobian using PyBullet ---\n",
    "    # PyBullet's calculateJacobian needs:\n",
    "    # - bodyUniqueId\n",
    "    # - linkIndex (of the end-effector point)\n",
    "    # - localPosition (of the point on the link, relative to link's CoM frame, or link's URDF origin frame - check docs)\n",
    "    #   For geometric Jacobian, this is usually [0,0,0] relative to the EE link's *frame origin*.\n",
    "    # - objPositions (current joint angles)\n",
    "    # - objVelocities (current joint velocities - can be zero for geometric J)\n",
    "    # - objAccelerations (current joint accelerations - can be zero for geometric J)\n",
    "\n",
    "    # Get the position of the EE link's origin in its own frame (which is [0,0,0])\n",
    "    # The Jacobian is calculated for a point on the link. If KDL_CHAIN[-1] defines the EE frame origin,\n",
    "    # then localPositionOnLink should be [0,0,0] for that frame.\n",
    "    # PyBullet's link frame origin is what's defined in the URDF for that link.\n",
    "    # If your KDL's last transform points to the origin of the URDF EE link, then [0,0,0] is correct.\n",
    "    link_state_ee = p.getLinkState(robot_id, pb_ee_link_index, computeForwardKinematics=1)\n",
    "    # T_world_URDFLinkCoM = get_matrix_from_pose_pb((link_state_ee[0],link_state_ee[1])) # Transform to Link CoM\n",
    "    # T_world_URDFLinkFrame = get_matrix_from_pose_pb((link_state_ee[4],link_state_ee[5])) # Transform to Link URDF Frame Origin\n",
    "\n",
    "    # Let's calculate for the origin of the EE link's URDF frame\n",
    "    local_point_on_ee_link = [0.0, 0.0, 0.0]\n",
    "\n",
    "    zero_vec = [0.0] * robot_config.NUM_JOINTS\n",
    "    J_pb_tuple = p.calculateJacobian(\n",
    "        bodyUniqueId=robot_id,\n",
    "        linkIndex=pb_ee_link_index,\n",
    "        localPosition=local_point_on_ee_link,\n",
    "        objPositions=test_joint_angles,\n",
    "        objVelocities=zero_vec, # Not used for geometric Jacobian computation itself\n",
    "        objAccelerations=zero_vec # Not used\n",
    "    )\n",
    "    J_pb_linear = np.array(J_pb_tuple[0])   # Linear part (dx/dq, dy/dq, dz/dq)\n",
    "    J_pb_angular = np.array(J_pb_tuple[1]) # Angular part (droll/dq, dpitch/dq, dyaw/dq)\n",
    "    J_pb = np.vstack((J_pb_linear, J_pb_angular))\n",
    "\n",
    "    print(\"\\n--- PyBullet Jacobian ---\")\n",
    "    print(np.round(J_pb, 2))\n",
    "\n",
    "    # --- Compare ---\n",
    "    diff_J = np.abs(J_custom - J_pb)\n",
    "    print(f\"\\n--- Comparison (Custom - PyBullet) ---\")\n",
    "    print(f\"Max absolute difference: {np.max(diff_J):.6f}\")\n",
    "    print(f\"Mean absolute difference: {np.mean(diff_J):.6f}\")\n",
    "\n",
    "    if np.allclose(J_custom, J_pb, atol=1e-2): # Adjust tolerance as needed\n",
    "        print(\"\\nSUCCESS: Custom Jacobian closely matches PyBullet Jacobian!\")\n",
    "    else:\n",
    "        print(\"\\nWARNING: Custom Jacobian differs significantly from PyBullet Jacobian.\")\n",
    "        print(\"Differences (Custom - PyBullet):\")\n",
    "        print(np.round(J_custom - J_pb, 2))\n",
    "\n",
    "    p.disconnect()"
   ],
   "id": "1815814d11747851",
   "outputs": [],
   "execution_count": 4
  },
  {
   "metadata": {
    "ExecuteTime": {
     "end_time": "2025-06-05T14:52:38.372369Z",
     "start_time": "2025-06-05T14:52:37.604711Z"
    }
   },
   "cell_type": "code",
   "source": [
    "if __name__ == \"__main__\":\n",
    "    main_jacobian_test()"
   ],
   "id": "d7289a5567a379d9",
   "outputs": [
    {
     "name": "stdout",
     "output_type": "stream",
     "text": [
      "\n",
      "--- Custom Jacobian ---\n",
      "Using neocis_convention=True for FK in custom Jacobian.\n",
      "[[-0.58 -0.58  0.02  0.   -0.23 -0.01 -0.  ]\n",
      " [ 0.39  0.02 -0.    0.02  0.01 -0.23 -0.  ]\n",
      " [ 0.    0.    0.   -0.31  0.   -0.   -0.  ]\n",
      " [ 0.    0.    0.03 -1.    0.03 -1.   -0.  ]\n",
      " [ 0.    0.    1.    0.03  1.    0.03  0.  ]\n",
      " [ 1.    1.    0.    0.    0.    0.   -1.  ]]\n",
      "\n",
      "--- PyBullet Jacobian ---\n",
      "[[-0.58 -0.58  0.12  0.   -0.13 -0.    0.  ]\n",
      " [ 0.39  0.02 -0.    0.12  0.   -0.13 -0.  ]\n",
      " [ 0.    0.    0.   -0.31 -0.    0.    0.  ]\n",
      " [-0.   -0.    0.03 -1.    0.03 -1.    0.  ]\n",
      " [ 0.    0.    1.    0.03  1.    0.03 -0.  ]\n",
      " [ 1.    1.   -0.    0.   -0.   -0.   -1.  ]]\n",
      "\n",
      "--- Comparison (Custom - PyBullet) ---\n",
      "Max absolute difference: 0.098653\n",
      "Mean absolute difference: 0.009686\n",
      "\n",
      "WARNING: Custom Jacobian differs significantly from PyBullet Jacobian.\n",
      "Differences (Custom - PyBullet):\n",
      "[[ 0.   0.  -0.1 -0.  -0.1 -0.  -0. ]\n",
      " [ 0.   0.   0.  -0.1  0.  -0.1 -0. ]\n",
      " [-0.  -0.  -0.   0.   0.  -0.  -0. ]\n",
      " [ 0.   0.   0.   0.   0.  -0.  -0. ]\n",
      " [-0.  -0.   0.   0.   0.   0.   0. ]\n",
      " [ 0.   0.   0.  -0.   0.   0.  -0. ]]\n"
     ]
    }
   ],
   "execution_count": 5
  }
 ],
 "metadata": {
  "kernelspec": {
   "display_name": "Python 3",
   "language": "python",
   "name": "python3"
  },
  "language_info": {
   "codemirror_mode": {
    "name": "ipython",
    "version": 2
   },
   "file_extension": ".py",
   "mimetype": "text/x-python",
   "name": "python",
   "nbconvert_exporter": "python",
   "pygments_lexer": "ipython2",
   "version": "2.7.6"
  }
 },
 "nbformat": 4,
 "nbformat_minor": 5
}
